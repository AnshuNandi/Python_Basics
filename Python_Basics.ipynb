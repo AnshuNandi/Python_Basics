{
  "nbformat": 4,
  "nbformat_minor": 0,
  "metadata": {
    "colab": {
      "provenance": []
    },
    "kernelspec": {
      "name": "python3",
      "display_name": "Python 3"
    },
    "language_info": {
      "name": "python"
    }
  },
  "cells": [
    {
      "cell_type": "markdown",
      "source": [
        "**Python Basics Questions**\n",
        "\n",
        "Q1. What is Python, and why is it popular?\n",
        "\n",
        "Answer: Python is a high-level, interpreted, general-purpose programming language known for its simplicity and readability. It is popular because it has easy-to-learn syntax, extensive libraries, community support, cross-platform compatibility, and is widely used in fields like web development, data science, AI, and automation.\n",
        "\n",
        "Q2. What is an interpreter in Python?\n",
        "\n",
        "Answer: The Python interpreter is a program that reads and executes Python code line by line, converting it into machine-understandable instructions.\n",
        "\n",
        "Q3. What are pre-defined keywords in Python?\n",
        "\n",
        "Answer: Pre-defined keywords are reserved words in Python that have special meanings and cannot be used as identifiers (variable, function names). Examples include if, else, while, for, True, False, None, etc.\n",
        "\n",
        "Q4. Can keywords be used as variable names?\n",
        "\n",
        "Answer: No, keywords cannot be used as variable names because they are reserved for specific language syntax.\n",
        "\n",
        "Q5. What is mutability in Python?\n",
        "\n",
        "Answer: Mutability refers to the ability of an object to be changed after it is created. Mutable objects can be modified, while immutable objects cannot.\n",
        "\n",
        "Q6. Why are lists mutable, but tuples are immutable?\n",
        "\n",
        "Answer: Lists are designed to allow modification of elements, so they are mutable. Tuples, on the other hand, are used for fixed collections of items and do not allow modification after creation, making them immutable.\n",
        "\n",
        "Q7. What is the difference between “==” and “is” operators in Python?\n",
        "\n",
        "Answer:\n",
        "\n",
        "- == checks for value equality (whether two objects have the same value).\n",
        "\n",
        "- is checks for identity equality (whether two objects refer to the same memory location).\n",
        "\n",
        "Q8. What are logical operators in Python?\n",
        "\n",
        "Answer: Logical operators are used to combine conditional statements:\n",
        "\n",
        "- and (returns True if both conditions are True)\n",
        "\n",
        "- or (returns True if at least one condition is True)\n",
        "\n",
        "- not (returns the opposite of the condition).\n",
        "\n",
        "Q9. What is type casting in Python?\n",
        "\n",
        "Answer: Type casting is the process of converting one data type into another, such as converting a string to an integer.\n",
        "\n",
        "Q10. What is the difference between implicit and explicit type casting?\n",
        "\n",
        "Answer:\n",
        "\n",
        "- Implicit casting (type coercion): Python automatically converts one type to another without data loss (e.g., int to float).\n",
        "\n",
        "- Explicit casting: The programmer manually converts a type using functions like int(), float(), str(), etc.\n",
        "\n",
        "Q11. What is the purpose of conditional statements in Python?\n",
        "\n",
        "Answer: Conditional statements allow decision-making in a program by executing certain blocks of code only if specific conditions are met.\n",
        "\n",
        "Q12. How does the elif statement work?\n",
        "\n",
        "Answer: The elif statement provides multiple conditions in an if...elif...else structure. It executes its block only if the previous if condition is false and its own condition is true.\n",
        "\n",
        "Q13. What is the difference between for and while loops?\n",
        "\n",
        "Answer:\n",
        "\n",
        "- for loop is used when the number of iterations is known in advance (iterates over a sequence).\n",
        "\n",
        "- while loop is used when the number of iterations is not known and depends on a condition being true.\n",
        "\n",
        "Q14. Describe a scenario where a while loop is more suitable than a for loop.\n",
        "\n",
        "Answer: A while loop is more suitable when taking user input until a valid input is given, because the number of iterations is not known in advance."
      ],
      "metadata": {
        "id": "oOxKeMiTIsRn"
      }
    },
    {
      "cell_type": "markdown",
      "source": [
        "**Practical Questions**"
      ],
      "metadata": {
        "id": "-R-pxvvcLkNd"
      }
    },
    {
      "cell_type": "code",
      "execution_count": 1,
      "metadata": {
        "colab": {
          "base_uri": "https://localhost:8080/"
        },
        "id": "LKClMB2vIosJ",
        "outputId": "8168b8b4-dfc1-4ecb-a02f-271964a5cb72"
      },
      "outputs": [
        {
          "output_type": "stream",
          "name": "stdout",
          "text": [
            "Hello, World!\n"
          ]
        }
      ],
      "source": [
        "# Q1. Write a Python program to print \"Hello, World!\"\n",
        "print(\"Hello, World!\")\n"
      ]
    },
    {
      "cell_type": "code",
      "source": [
        "# Q2. Write a Python program that displays your name and age.\n",
        "name = \"Anshu\"\n",
        "age = 22\n",
        "print(\"Name:\", name)\n",
        "print(\"Age:\", age)"
      ],
      "metadata": {
        "colab": {
          "base_uri": "https://localhost:8080/"
        },
        "id": "ufcWmAs3Mhmd",
        "outputId": "e6ceabd1-c036-4371-f057-fca3ef4d40ac"
      },
      "execution_count": 3,
      "outputs": [
        {
          "output_type": "stream",
          "name": "stdout",
          "text": [
            "Name: Anshu\n",
            "Age: 22\n"
          ]
        }
      ]
    },
    {
      "cell_type": "code",
      "source": [
        "# Q3. Write code to print all the pre-defined keywords in Python using the keyword library.\n",
        "import keyword\n",
        "print(keyword.kwlist)"
      ],
      "metadata": {
        "colab": {
          "base_uri": "https://localhost:8080/"
        },
        "id": "p4jevlpvMmQn",
        "outputId": "d686dedd-d2a0-4b6b-f63d-b834ccdacbca"
      },
      "execution_count": 7,
      "outputs": [
        {
          "output_type": "stream",
          "name": "stdout",
          "text": [
            "['False', 'None', 'True', 'and', 'as', 'assert', 'async', 'await', 'break', 'class', 'continue', 'def', 'del', 'elif', 'else', 'except', 'finally', 'for', 'from', 'global', 'if', 'import', 'in', 'is', 'lambda', 'nonlocal', 'not', 'or', 'pass', 'raise', 'return', 'try', 'while', 'with', 'yield']\n"
          ]
        }
      ]
    },
    {
      "cell_type": "code",
      "source": [
        "# Q4. Write a program that checks if a given word is a Python keyword.\n",
        "import keyword\n",
        "word = input(\"Enter a word: \")\n",
        "if keyword.iskeyword(word):\n",
        "    print(word, \"is a Python keyword\")\n",
        "else:\n",
        "    print(word, \"is not a Python keyword\")"
      ],
      "metadata": {
        "colab": {
          "base_uri": "https://localhost:8080/"
        },
        "id": "RvP7yGFkNPxm",
        "outputId": "df2dfd8f-40b9-432b-8976-fecc3922e48f"
      },
      "execution_count": 5,
      "outputs": [
        {
          "output_type": "stream",
          "name": "stdout",
          "text": [
            "Enter a word: if\n",
            "if is a Python keyword\n"
          ]
        }
      ]
    },
    {
      "cell_type": "code",
      "source": [
        "# Q5. Create a list and tuple in Python, and demonstrate how attempting to change an element works differently for each.\n",
        "my_list = [1, 2, 3]\n",
        "my_tuple = (1, 2, 3)\n",
        "\n",
        "my_list[0] = 10   # Works fine\n",
        "print(\"Modified List:\", my_list)\n",
        "\n",
        "try:\n",
        "    my_tuple[0] = 10   #Will cause error\n",
        "except TypeError:\n",
        "    print(\"Cannot modify tuple\")"
      ],
      "metadata": {
        "colab": {
          "base_uri": "https://localhost:8080/"
        },
        "id": "bUaAahF4RP9M",
        "outputId": "c83a9106-a5c1-4348-d7c6-da73a6228951"
      },
      "execution_count": 12,
      "outputs": [
        {
          "output_type": "stream",
          "name": "stdout",
          "text": [
            "Modified List: [10, 2, 3]\n",
            "Cannot modify tuple\n"
          ]
        }
      ]
    },
    {
      "cell_type": "code",
      "source": [
        "# Q6. Write a function to demonstrate the behavior of mutable and immutable arguments.\n",
        "def modify_list(lst):\n",
        "    lst.append(100)\n",
        "\n",
        "def modify_number(num):\n",
        "    num += 10\n",
        "    return num\n",
        "\n",
        "my_list = [1, 2, 3]\n",
        "my_num = 5\n",
        "\n",
        "modify_list(my_list)\n",
        "print(\"List after function call:\", my_list)\n",
        "\n",
        "new_num = modify_number(my_num)\n",
        "print(\"Number after function call:\", new_num)\n",
        "print(\"Original number:\", my_num)"
      ],
      "metadata": {
        "colab": {
          "base_uri": "https://localhost:8080/"
        },
        "id": "Yrn65sfKRtyn",
        "outputId": "e0502022-f8d7-469a-a226-5e3131476090"
      },
      "execution_count": 8,
      "outputs": [
        {
          "output_type": "stream",
          "name": "stdout",
          "text": [
            "List after function call: [1, 2, 3, 100]\n",
            "Number after function call: 15\n",
            "Original number: 5\n"
          ]
        }
      ]
    },
    {
      "cell_type": "code",
      "source": [
        "# Q7. Write a program that performs basic arithmetic operations on two user-input numbers.\n",
        "a = int(input(\"Enter first number: \"))\n",
        "b = int(input(\"Enter second number: \"))\n",
        "\n",
        "print(\"Addition:\", a + b)\n",
        "print(\"Subtraction:\", a - b)\n",
        "print(\"Multiplication:\", a * b)\n",
        "print(\"Division:\", a / b)"
      ],
      "metadata": {
        "colab": {
          "base_uri": "https://localhost:8080/"
        },
        "id": "3cRbfm5nR7-T",
        "outputId": "e950d376-7d9a-40de-95eb-1489aefda286"
      },
      "execution_count": 10,
      "outputs": [
        {
          "output_type": "stream",
          "name": "stdout",
          "text": [
            "Enter first number: 23\n",
            "Enter second number: 5\n",
            "Addition: 28\n",
            "Subtraction: 18\n",
            "Multiplication: 115\n",
            "Division: 4.6\n"
          ]
        }
      ]
    },
    {
      "cell_type": "code",
      "source": [
        "# Q8. Write a program to demonstrate the use of logical operators.\n",
        "x = 10\n",
        "y = 5\n",
        "print(x > 0 and y > 0)\n",
        "print(x > 0 or y < 0)\n",
        "print(not (x > y))"
      ],
      "metadata": {
        "colab": {
          "base_uri": "https://localhost:8080/"
        },
        "id": "bH6H4HYfSYAf",
        "outputId": "a4d3ddc8-52bb-4bbb-e8a3-279d13bb49d0"
      },
      "execution_count": 11,
      "outputs": [
        {
          "output_type": "stream",
          "name": "stdout",
          "text": [
            "True\n",
            "True\n",
            "False\n"
          ]
        }
      ]
    },
    {
      "cell_type": "code",
      "source": [
        "# Q9. Write a Python program to convert user input from string to integer, float, and boolean types.\n",
        "data = input(\"Enter a value: \")\n",
        "print(\"As integer:\", int(data))\n",
        "print(\"As float:\", float(data))\n",
        "print(\"As boolean:\", bool(data))"
      ],
      "metadata": {
        "colab": {
          "base_uri": "https://localhost:8080/"
        },
        "id": "GK2ji7iqSfyA",
        "outputId": "1b38aef1-2803-42b1-d10f-e8c7552fb611"
      },
      "execution_count": 14,
      "outputs": [
        {
          "output_type": "stream",
          "name": "stdout",
          "text": [
            "Enter a value: 12\n",
            "As integer: 12\n",
            "As float: 12.0\n",
            "As boolean: True\n"
          ]
        }
      ]
    },
    {
      "cell_type": "code",
      "source": [
        "# Q10. Write code to demonstrate type casting with list elements.\n",
        "nums = [\"1\", \"2\", \"3\", \"4\"]\n",
        "nums_int = [int(x) for x in nums]\n",
        "print(nums_int)"
      ],
      "metadata": {
        "colab": {
          "base_uri": "https://localhost:8080/"
        },
        "id": "2Wza8hMOTFWL",
        "outputId": "0a48fa28-3523-4282-9e5d-b723f7a093f4"
      },
      "execution_count": 15,
      "outputs": [
        {
          "output_type": "stream",
          "name": "stdout",
          "text": [
            "[1, 2, 3, 4]\n"
          ]
        }
      ]
    },
    {
      "cell_type": "code",
      "source": [
        "# Q11. Write a program that checks if a number is positive, negative, or zero.\n",
        "num = int(input(\"Enter a number: \"))\n",
        "if num > 0:\n",
        "    print(\"Positive\")\n",
        "elif num < 0:\n",
        "    print(\"Negative\")\n",
        "else:\n",
        "    print(\"Zero\")"
      ],
      "metadata": {
        "colab": {
          "base_uri": "https://localhost:8080/"
        },
        "id": "S7UTRt8tTMYA",
        "outputId": "1cb12746-7d78-4c68-a5d9-c5a0f225414e"
      },
      "execution_count": 16,
      "outputs": [
        {
          "output_type": "stream",
          "name": "stdout",
          "text": [
            "Enter a number: 7\n",
            "Positive\n"
          ]
        }
      ]
    },
    {
      "cell_type": "code",
      "source": [
        "# Q12. Write a for loop to print numbers from 1 to 10.\n",
        "for i in range(1, 11):\n",
        "    print(i)\n"
      ],
      "metadata": {
        "colab": {
          "base_uri": "https://localhost:8080/"
        },
        "id": "qu1YiLvmTRS3",
        "outputId": "9f7a91c0-9a21-4655-ca25-28bad2483b3f"
      },
      "execution_count": 17,
      "outputs": [
        {
          "output_type": "stream",
          "name": "stdout",
          "text": [
            "1\n",
            "2\n",
            "3\n",
            "4\n",
            "5\n",
            "6\n",
            "7\n",
            "8\n",
            "9\n",
            "10\n"
          ]
        }
      ]
    },
    {
      "cell_type": "code",
      "source": [
        "# Q13. Write a Python program to find the sum of all even numbers between 1 and 50.\n",
        "total = 0\n",
        "for i in range(2, 51, 2):\n",
        "    total += i\n",
        "print(\"Sum of even numbers between 1 and 50:\", total)"
      ],
      "metadata": {
        "colab": {
          "base_uri": "https://localhost:8080/"
        },
        "id": "Vz9hWTB2TV0R",
        "outputId": "9e6c621a-16cd-4fc7-c1e1-9268c69e5bc8"
      },
      "execution_count": 18,
      "outputs": [
        {
          "output_type": "stream",
          "name": "stdout",
          "text": [
            "Sum of even numbers between 1 and 50: 650\n"
          ]
        }
      ]
    },
    {
      "cell_type": "code",
      "source": [
        "# Q14. Write a program to reverse a string using a while loop.\n",
        "s = input(\"Enter a string: \")\n",
        "reversed_s = \"\"\n",
        "i = len(s) - 1\n",
        "while i >= 0:\n",
        "    reversed_s += s[i]\n",
        "    i -= 1\n",
        "print(\"Reversed string:\", reversed_s)"
      ],
      "metadata": {
        "colab": {
          "base_uri": "https://localhost:8080/"
        },
        "id": "f-6OooPxTpIs",
        "outputId": "75630a3c-af2d-4132-edf6-cecec080c9fe"
      },
      "execution_count": 19,
      "outputs": [
        {
          "output_type": "stream",
          "name": "stdout",
          "text": [
            "Enter a string: Anshu\n",
            "Reversed string: uhsnA\n"
          ]
        }
      ]
    },
    {
      "cell_type": "code",
      "source": [
        "# Q15. Write a Python program to calculate the factorial of a number provided by the user using a while loop.\n",
        "num = int(input(\"Enter a number: \"))\n",
        "factorial = 1\n",
        "i = 1\n",
        "while i <= num:\n",
        "    factorial *= i\n",
        "    i += 1\n",
        "print(\"Factorial:\", factorial)"
      ],
      "metadata": {
        "colab": {
          "base_uri": "https://localhost:8080/"
        },
        "id": "dd5sPxD6T0WI",
        "outputId": "104eba62-b315-4dd7-c03b-584e0606f390"
      },
      "execution_count": 20,
      "outputs": [
        {
          "output_type": "stream",
          "name": "stdout",
          "text": [
            "Enter a number: 5\n",
            "Factorial: 120\n"
          ]
        }
      ]
    }
  ]
}